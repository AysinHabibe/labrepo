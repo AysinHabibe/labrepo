{
 "cells": [
  {
   "cell_type": "markdown",
   "id": "2a3e2d8b",
   "metadata": {},
   "source": [
    "# Data Science Tools and Ecosystem"
   ]
  },
  {
   "cell_type": "markdown",
   "id": "a5263889",
   "metadata": {},
   "source": [
    "In this notebook, Data Science Tools and Ecosystem are summarized."
   ]
  },
  {
   "cell_type": "markdown",
   "id": "e5ded300",
   "metadata": {},
   "source": [
    "**Objectives:**\n",
    "    \n",
    "+ Popular Languages For Data Science\n",
    "+ Open Source Data Science Tools\n",
    "+ Commonly Used Libraries For Data Science"
   ]
  },
  {
   "cell_type": "markdown",
   "id": "8cbd4070",
   "metadata": {},
   "source": [
    "# Some of the popular languages that Data Scientists use are:\n",
    "    1. Phyton\n",
    "    2. R\n",
    "    3. Scala\n",
    "    4. SQL\n",
    "    5. Java\n",
    "    6. Julia\n",
    "    7. Javascript"
   ]
  },
  {
   "cell_type": "markdown",
   "id": "89f62d2d",
   "metadata": {},
   "source": [
    "# Some of the commonly used libraries used by Data Scientists include:\n",
    "1. numpy\n",
    "2. pandas\n",
    "3. matplotlib\n",
    "4. ggplot2\n",
    "5. scikit-learn"
   ]
  },
  {
   "cell_type": "markdown",
   "id": "6d528b6b",
   "metadata": {},
   "source": [
    "|Data Science Tools|\n",
    "--------------------\n",
    "|RStudio|\n",
    "|Jupyter Notebooks|\n",
    "|Spyder|\n",
    "|Apache Spark|\n"
   ]
  },
  {
   "cell_type": "markdown",
   "id": "97ee9d19",
   "metadata": {},
   "source": [
    "### Below are a few examples of evaluating arithmetic expressions in Python"
   ]
  },
  {
   "cell_type": "code",
   "execution_count": null,
   "id": "fd561d08",
   "metadata": {},
   "outputs": [],
   "source": [
    " #This a simple arithmetic expression to mutiply then add integers\n",
    "(3*4)+5"
   ]
  },
  {
   "cell_type": "code",
   "execution_count": null,
   "id": "2f366f12",
   "metadata": {},
   "outputs": [],
   "source": [
    "# This will convert 200 minutes to hours by diving by 60\n",
    "(200/60)\n"
   ]
  },
  {
   "cell_type": "markdown",
   "id": "254665a4",
   "metadata": {},
   "source": [
    "## Author\n",
    "\n",
    "Habibe Akyıldız"
   ]
  }
 ],
 "metadata": {
  "kernelspec": {
   "display_name": "Python 3 (ipykernel)",
   "language": "python",
   "name": "python3"
  },
  "language_info": {
   "codemirror_mode": {
    "name": "ipython",
    "version": 3
   },
   "file_extension": ".py",
   "mimetype": "text/x-python",
   "name": "python",
   "nbconvert_exporter": "python",
   "pygments_lexer": "ipython3",
   "version": "3.10.9"
  }
 },
 "nbformat": 4,
 "nbformat_minor": 5
}
